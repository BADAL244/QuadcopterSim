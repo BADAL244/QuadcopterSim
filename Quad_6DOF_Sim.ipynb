{
 "cells": [
  {
   "cell_type": "markdown",
   "metadata": {},
   "source": [
    "# Quadcopter 6DOF Simulation\n",
    "\n"
   ]
  },
  {
   "cell_type": "code",
   "execution_count": 5,
   "metadata": {},
   "outputs": [],
   "source": [
    "import numpy as np\n",
    "import scipy.linalg as splin\n",
    "\n",
    "\n",
    "# Physical Constants\n",
    "m = 0.1         #kg\n",
    "Ixx = 0.00062   #kg-m^2\n",
    "Iyy = 0.00113   #kg-m^2\n",
    "Izz = 0.9*(Ixx + Iyy) #kg-m^2 (Assume nearly flat object, z=0)\n",
    "dx = 0.114      #m\n",
    "dy = 0.0825     #m\n",
    "g = 9.81  #m/s/s\n",
    "DTR = 1/57.3; RTD = 57.3\n",
    "\n",
    "\n",
    "# Simulation time and model parameters\n",
    "tstep = .01            # Sampling time (sec)\n",
    "simulation_time = 10   # Length of time to run simulation (sec)\n",
    "t = np.arange(0,simulation_time,tstep)   # time array\n",
    "\n",
    "# Model size\n",
    "n_states = 12  # Number of states\n",
    "n_inputs = 4   # Number of inputs\n",
    "\n",
    "\n",
    "# Initialize State Conditions\n",
    "x = np.zeros((n_states,np.size(t)))  # time history of state vectors\n",
    "# Initial height\n",
    "x[11,0] = 0.3\n",
    "# Initial pitch angle theta\n",
    "x[7,0] = 0.2\n",
    "\n",
    "\n",
    "# Initialize inputs\n",
    "u = np.zeros((n_inputs,np.size(t)))  # time history of input vectors\n",
    "# Initial control inputs\n",
    "u[:,0] = np.zeros(4)"
   ]
  },
  {
   "cell_type": "markdown",
   "metadata": {},
   "source": [
    "## Aerodynamics Model"
   ]
  },
  {
   "cell_type": "code",
   "execution_count": 6,
   "metadata": {
    "collapsed": true
   },
   "outputs": [],
   "source": [
    "# Propeller Thrust function\n",
    "def Fthrust(u):\n",
    "    #Input: u (PWM)\n",
    "    #Return: Thrust (Newtons)\n",
    "    return 0.00128*u - 1.55\n",
    "    \n",
    "# Torque function\n",
    "def T(F,dx,dy):\n",
    "    # Returns torque about cg given thrust force and dx,dy distance from cg\n",
    "    return 0\n"
   ]
  },
  {
   "cell_type": "markdown",
   "metadata": {},
   "source": [
    "## Equations of Motion"
   ]
  },
  {
   "cell_type": "code",
   "execution_count": 9,
   "metadata": {
    "collapsed": true
   },
   "outputs": [],
   "source": [
    "# Nonlinear Dynamics Equations of Motion\n",
    "def f(x,u):\n",
    "    # Inputs: state vector (x), input vector (u)\n",
    "    # Returns: time derivative of state vector (xdot)\n",
    "    \n",
    "    #  State Vector Reference:\n",
    "    #idx  0, 1, 2, 3, 4, 5,  6,   7,   8,   9, 10, 11\n",
    "    #x = [u, v, w, p, q, r, phi, the, psi, xE, yE, hE]\n",
    "    \n",
    "    # Store state variables in a readable format\n",
    "    ub = x[0]\n",
    "    vb = x[1]\n",
    "    wb = x[2]\n",
    "    p = x[3]\n",
    "    q = x[4]\n",
    "    r = x[5]\n",
    "    phi = x[6]\n",
    "    theta = x[7]\n",
    "    psi = x[8]\n",
    "    xE = x[9]\n",
    "    yE = x[10]\n",
    "    hE = x[11]\n",
    "    \n",
    "    # Calculate forces from propeller inputs (u)\n",
    "    F1 = Fthrust(u[0])\n",
    "    F2 = Fthrust(u[1])\n",
    "    F3 = Fthrust(u[2])\n",
    "    F4 = Fthrust(u[3])\n",
    "    Fz = F1 + F2 + F3 + F4\n",
    "    L = (F1 + F4) * dy - (F2 + F3) * dy\n",
    "    M = (F1 + F3) * dx - (F2 + F4) * dx\n",
    "    N = -T(F1,dx,dy) - T(F2,dx,dy) + T(F3,dx,dy) + T(F4,dx,dy)\n",
    "    \n",
    "    # Pre-calculate trig values\n",
    "    cphi = np.cos(phi);   sphi = np.sin(phi)\n",
    "    cthe = np.cos(theta); sthe = np.sin(theta)\n",
    "    cpsi = np.cos(psi);   spsi = np.sin(psi)\n",
    "    \n",
    "    # Calculate the derivative of the state matrix using EOM\n",
    "    xdot = np.zeros(12)\n",
    "    \n",
    "    xdot[0] = -g * sthe + r * vb - q * wb  # = udot\n",
    "    xdot[1] = g * sphi*cthe - r * ub + p * wb # = vdot\n",
    "    xdot[2] = 1/m * (-Fz) + g*cphi*cthe + q * ub - p * vb # = wdot\n",
    "    xdot[3] = 1/Ixx * (L + (Iyy - Izz) * q * r)  # = pdot\n",
    "    xdot[4] = 1/Iyy * (M + (Izz - Ixx) * p * r)  # = qdot\n",
    "    xdot[5] = 1/Izz * (N + (Ixx - Iyy) * p * q)  # = rdot\n",
    "    xdot[6] = p + (q*sphi + r*cphi) * sthe / cthe  # = phidot\n",
    "    xdot[7] = q * cphi - r * sphi  # = thetadot\n",
    "    xdot[8] = (q * sphi + r * cphi) / cthe  # = psidot\n",
    "    \n",
    "    xdot[9] = cthe*cpsi*xdot[0] + (-cthe*spsi + sphi*sthe*cpsi) * x[1] + \\\n",
    "        (sphi*spsi+cphi*sthe*cpsi) * xdot[2]  # = xEdot\n",
    "        \n",
    "    xdot[10] = cthe*spsi * xdot[0] + (cphi*cpsi+sphi*sthe*spsi) * xdot[1] + \\\n",
    "        (-sphi*cpsi+cphi*sthe*spsi) * xdot[2] # = yEdot\n",
    "        \n",
    "    xdot[11] = -1*(-sthe * xdot[0] + sphi*cthe * xdot[1] + \\\n",
    "        cphi*cthe * xdot[2]) # = hEdot\n",
    "    \n",
    "    return xdot\n",
    "\n",
    "\n"
   ]
  },
  {
   "cell_type": "markdown",
   "metadata": {},
   "source": [
    "## Numerical Integrator"
   ]
  },
  {
   "cell_type": "code",
   "execution_count": 11,
   "metadata": {},
   "outputs": [],
   "source": [
    "# 4th Order Runge Kutta Calculation\n",
    "def RK4(x,u,dt):\n",
    "    # Inputs: x[k], u[k], dt (time step, seconds)\n",
    "    # Returns: x[k+1]\n",
    "    \n",
    "    # Calculate slope estimates\n",
    "    K1 = f(x,u)\n",
    "    K2 = f(x + K1 * dt / 2, u)\n",
    "    K3 = f(x + K2 * dt / 2, u)\n",
    "    K4 = f(x + K3 * dt, u)\n",
    "    \n",
    "    # Calculate x[k+1] estimate using combination of slope estimates\n",
    "    x_next = x + 1/6 * (K1 + 2*K2 + 2*K3 + K4) * dt\n",
    "    \n",
    "    return x_next\n",
    "\n",
    "\n",
    "\n",
    "# March through time array and numerically solve for vehicle states\n",
    "\n",
    "for k in range(1,np.size(t)):   #run for 60 sec\n",
    "    \n",
    "    # State truth\n",
    "    x[:,k] = RK4(x[:,k-1], u[:,k-1], tstep)\n",
    "    \n",
    "    #Ground detection\n",
    "    #if x[11,k] < 0:\n",
    "    #    x[11,k] = 0\n",
    "    #    x[2,k] = max(0,x[1,k])\n",
    "        \n",
    "    # Sensed information - assumes perfect knowledge\n",
    "    phi = x[6,k]\n",
    "    theta = x[7,k]\n",
    "    p = x[3,k]\n",
    "    q = x[4,k]\n",
    "    r = x[5,k]\n",
    "    \n",
    "    h = x[11,k]\n",
    "    hdot = -x[2,k]  #for small angle\n",
    "    \n",
    "    \n",
    "    # Calculate euler angle rates from sensed information\n",
    "    sphi = np.sin(phi)\n",
    "    cphi = np.cos(phi)\n",
    "    tan_theta = np.tan(theta)\n",
    "    phidot = p + (q * sphi + r * cphi) * tan_theta\n",
    "    thetadot = q * cphi - r * sphi\n",
    "    \n",
    "        \n",
    "    # Control Law Gains\n",
    "    Kp = 500\n",
    "    Kd = 50\n",
    "    Kh = 500\n",
    "    Khdot = 250\n",
    "    \n",
    "    #State error\n",
    "    #e = x[:,k] - xc[:,k]\n",
    "    \n",
    "    # Reference values\n",
    "    hCmd = 0.2\n",
    "\n",
    "    #feedback = K * [e,None]    # e must be a column vector\n",
    "    #u[:,k] = np.array([T1e,T2e]).T - feedback.A1\n",
    "    #u[:,k] = u[:,k-1]\n",
    "    \n",
    "    pitch = -Kp*theta - Kd*thetadot\n",
    "    roll = -Kp*phi - Kd*phidot\n",
    "    height = -Kh*(h - hCmd) - Khdot*hdot\n",
    "    \n",
    "    trim = 1402\n",
    "    \n",
    "    u[0,k] = int(roll + pitch + height) + trim\n",
    "    u[1,k] = int(-roll - pitch + height) + trim\n",
    "    u[2,k] = int(-roll + pitch + height) + trim\n",
    "    u[3,k] = int(roll - pitch + height) + trim\n",
    "    \n",
    "    \n",
    "    # Limits\n",
    "    u[0,k] = max(1000,min(2000,u[0,k]))\n",
    "    u[1,k] = max(1000,min(2000,u[1,k]))\n",
    "    u[2,k] = max(1000,min(2000,u[2,k]))\n",
    "    u[3,k] = max(1000,min(2000,u[3,k]))\n"
   ]
  },
  {
   "cell_type": "markdown",
   "metadata": {},
   "source": [
    "## Plot Results"
   ]
  },
  {
   "cell_type": "code",
   "execution_count": 16,
   "metadata": {
    "scrolled": false
   },
   "outputs": [
    {
     "data": {
      "image/png": "[encoded data removed]",
      "text/plain": [
       "<matplotlib.figure.Figure at 0x7f1cf25efcf8>"
      ]
     },
     "metadata": {},
     "output_type": "display_data"
    },
    {
     "data": {
      "image/png": "[encoded data removed]",
      "text/plain": [
       "<matplotlib.figure.Figure at 0x7f1cf26205f8>"
      ]
     },
     "metadata": {},
     "output_type": "display_data"
    },
    {
     "data": {
      "image/png": "[encoded data removed]",
      "text/plain": [
       "<matplotlib.figure.Figure at 0x7f1cf2bd75c0>"
      ]
     },
     "metadata": {},
     "output_type": "display_data"
    }
   ],
   "source": [
    "from pylab import *\n",
    "# Visualizations will be shown in the notebook.\n",
    "%matplotlib inline\n",
    "\n",
    "\n",
    "figure(1, figsize=(10,10))\n",
    "subplot(311)\n",
    "plot(t,x[11,:],'b',label='h')\n",
    "ylabel('h (m)')\n",
    "xlabel('Time (sec)')\n",
    "legend(loc='best')\n",
    "\n",
    "subplot(312)\n",
    "plot(t,x[9,:],'b',label='x')\n",
    "ylabel('x (m)')\n",
    "xlabel('Time (sec)')\n",
    "#plot(t,x[2,:]*57.3,'b',label='x')\n",
    "#ylabel('pitch rate [deg/s]')\n",
    "\n",
    "subplot(313)\n",
    "plot(t,x[7,:]*57.3,'b',label='theta')\n",
    "ylabel('Theta (deg)')\n",
    "xlabel('Time (sec)')\n",
    "\n",
    "figure(2, figsize=(10,10))\n",
    "plot(x[9,:],x[10,:],'b',label='y')\n",
    "ylabel('y [m]'); xlabel('x [m]')\n",
    "legend(loc='best')\n",
    "\n",
    "figure(3, figsize=(10,10))\n",
    "plot(t,u[0,:],'b',label='T1')\n",
    "plot(t,u[1,:],'g',label='T2')\n",
    "xlabel('Time (sec)')\n",
    "legend(loc='best')\n",
    "\n",
    "#figure(4)\n",
    "#plot(t,height)\n",
    "\n",
    "show()"
   ]
  },
  {
   "cell_type": "code",
   "execution_count": null,
   "metadata": {
    "collapsed": true
   },
   "outputs": [],
   "source": []
  }
 ],
 "metadata": {
  "kernelspec": {
   "display_name": "Python 3",
   "language": "python",
   "name": "python3"
  },
  "language_info": {
   "codemirror_mode": {
    "name": "ipython",
    "version": 3
   },
   "file_extension": ".py",
   "mimetype": "text/x-python",
   "name": "python",
   "nbconvert_exporter": "python",
   "pygments_lexer": "ipython3",
   "version": "3.5.2"
  },
  "widgets": {
   "state": {},
   "version": "1.1.2"
  }
 },
 "nbformat": 4,
 "nbformat_minor": 2
}
